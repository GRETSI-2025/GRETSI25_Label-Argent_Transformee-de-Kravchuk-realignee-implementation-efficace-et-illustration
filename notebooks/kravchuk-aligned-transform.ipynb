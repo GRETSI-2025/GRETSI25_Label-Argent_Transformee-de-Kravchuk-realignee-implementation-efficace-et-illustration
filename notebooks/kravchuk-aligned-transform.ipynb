{
 "cells": [
  {
   "cell_type": "code",
   "execution_count": 1,
   "id": "368a992c-73a6-45e5-8335-1ec6b06e6443",
   "metadata": {},
   "outputs": [],
   "source": [
    "%load_ext autoreload\n",
    "%autoreload 2\n",
    "%run ../src/preamble.py"
   ]
  },
  {
   "cell_type": "markdown",
   "id": "0b58aa09-6b87-466c-ad3b-446f2255a492",
   "metadata": {},
   "source": [
    "#### General settings"
   ]
  },
  {
   "cell_type": "code",
   "execution_count": 3,
   "id": "52f8e3ed-f67c-41eb-ad27-4fbc57779c46",
   "metadata": {},
   "outputs": [],
   "source": [
    "# number of points\n",
    "N              = 256\n",
    "\n",
    "# signal-to-noise ratio\n",
    "snr            = np.inf\n",
    "\n",
    "# total duration of the signal\n",
    "observe        = 20"
   ]
  },
  {
   "cell_type": "markdown",
   "id": "511a9c51-3de0-4f36-acd6-ccce29f7f7dc",
   "metadata": {},
   "source": [
    "#### Signal to be analyzed"
   ]
  },
  {
   "cell_type": "code",
   "execution_count": 5,
   "id": "de292a6f-f2ec-45fd-b96d-283c1806caff",
   "metadata": {},
   "outputs": [
    {
     "data": {
      "image/png": "[encoded data removed]",
      "text/plain": [
       "<Figure size 500x300 with 1 Axes>"
      ]
     },
     "metadata": {},
     "output_type": "display_data"
    }
   ],
   "source": [
    "# spherical coordinates parameterizing the coherent state\n",
    "theta          = 3*np.pi/4\n",
    "phi            = np.pi+np.pi/2\n",
    "\n",
    "# coherent state\n",
    "signal,time_t  = the_noisy_coherent_state(N,observe = observe, theta = theta, phi = phi, snr = snr)\n",
    "\n",
    "# display the real part of the signal\n",
    "time_t         = display_signal(signal,time_t)"
   ]
  },
  {
   "cell_type": "markdown",
   "id": "43c76d6c-c998-4c96-b5a0-d7b1c1bfe264",
   "metadata": {},
   "source": [
    "#### Common grid of spherical angles on which to compute the Kravchuk transform"
   ]
  },
  {
   "cell_type": "code",
   "execution_count": 7,
   "id": "7c30b33d-7ca4-44d3-8488-eba76698b75c",
   "metadata": {},
   "outputs": [],
   "source": [
    "(thetas, phis) = the_spherical_angles(N)"
   ]
  },
  {
   "cell_type": "markdown",
   "id": "5c5794d7-b3b8-45cd-b4ec-61cc8959b714",
   "metadata": {},
   "source": [
    "#### Original Kravchuk transform\n",
    "\n",
    "- **Pascal, B.**, & Bardenet, R. (2022). A covariant, discrete time-frequency representation tailored for zero-based signal detection. *IEEE Transactions on Signal Processing*, 70, 2950–2961. [hal-03553433](https://hal.archives-ouvertes.fr/hal-03553433/document)\n",
    "\n",
    "- **Pascal, B.**, & Bardenet, R. (2022, September). Une famille de représentations covariantes de signaux discrets et son application à la détection de signaux à partir de leurs zéros. *GRETSI’22 XXVIIIème Colloque Francophone De Traitement Du Signal Et Des Images*. [hal-03614725](https://hal.archives-ouvertes.fr/hal-03614725/document)"
   ]
  },
  {
   "cell_type": "code",
   "execution_count": null,
   "id": "3594563d-3e92-44a0-b080-d731b2926b7f",
   "metadata": {},
   "outputs": [],
   "source": [
    "ti_origin  = time.time()  \n",
    "Ks, _,_    = the_ptransform(signal,1/2,thetas[:-1],phis)\n",
    "tf_origin  = time.time()  \n",
    "dt_origin  = tf_origin - ti_origin\n",
    "\n",
    "print(f'Elapsed time to compute the original p-Kravchuk transform is {dt_origin:.2f} sec.')"
   ]
  },
  {
   "cell_type": "code",
   "execution_count": null,
   "id": "86002f78-1a85-4238-88d1-98eaf3dc30ee",
   "metadata": {},
   "outputs": [],
   "source": []
  },
  {
   "cell_type": "markdown",
   "id": "98a4da1d-5e3a-4804-8191-e2c2a7b01ce4",
   "metadata": {},
   "source": [
    "#### Original Kravchuk transform\n",
    "\n",
    "- **Pascal, B.**, Flamant, J., & Bardenet, R. (2025). Transformée de Kravchuk réalignée, implémentation efficace et illustration sur signaux élémentaires et réels. *Submitted*. [hal-](https://hal.archives-ouvertes.fr/)"
   ]
  },
  {
   "cell_type": "code",
   "execution_count": 31,
   "id": "3c29a84e-aa5b-42fa-9562-cab978c595d8",
   "metadata": {},
   "outputs": [
    {
     "name": "stdout",
     "output_type": "stream",
     "text": [
      "Elapsed time to compute the novel aligned Kravchuk transform is 0.01 sec.\n"
     ]
    }
   ],
   "source": [
    "ti_new     = time.time()  \n",
    "Fs,_,_     = the_new_transform(signal)\n",
    "tf_new     = time.time()  \n",
    "dt_new     = tf_new - ti_new\n",
    "\n",
    "print(f'Elapsed time to compute the novel aligned Kravchuk transform is {dt_new:.2f} sec.')"
   ]
  },
  {
   "cell_type": "code",
   "execution_count": null,
   "id": "6ca3fe6f-08ad-4820-a979-5ecf61907e01",
   "metadata": {},
   "outputs": [],
   "source": [
    "planar_display(np.exp(np.abs(Fs)),[],[],thetas,phis)"
   ]
  }
 ],
 "metadata": {
  "kernelspec": {
   "display_name": "Python 3 (ipykernel)",
   "language": "python",
   "name": "python3"
  },
  "language_info": {
   "codemirror_mode": {
    "name": "ipython",
    "version": 3
   },
   "file_extension": ".py",
   "mimetype": "text/x-python",
   "name": "python",
   "nbconvert_exporter": "python",
   "pygments_lexer": "ipython3",
   "version": "3.12.4"
  }
 },
 "nbformat": 4,
 "nbformat_minor": 5
}
